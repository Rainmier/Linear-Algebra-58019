{
  "nbformat": 4,
  "nbformat_minor": 0,
  "metadata": {
    "colab": {
      "name": "Linear_Transformation.ipynb",
      "provenance": [],
      "authorship_tag": "ABX9TyM2J/7O4FS2nPkgPot3/t/W",
      "include_colab_link": true
    },
    "kernelspec": {
      "name": "python3",
      "display_name": "Python 3"
    },
    "language_info": {
      "name": "python"
    }
  },
  "cells": [
    {
      "cell_type": "markdown",
      "metadata": {
        "id": "view-in-github",
        "colab_type": "text"
      },
      "source": [
        "<a href=\"https://colab.research.google.com/github/Rainmier/Linear-Algebra-58019/blob/main/Linear_Transformation.ipynb\" target=\"_parent\"><img src=\"https://colab.research.google.com/assets/colab-badge.svg\" alt=\"Open In Colab\"/></a>"
      ]
    },
    {
      "cell_type": "markdown",
      "metadata": {
        "id": "ijt0JppcQVf6"
      },
      "source": [
        "###To find the inverse of a matrix, the matrix is passed to the linalg.inv() of the NumPy module:"
      ]
    },
    {
      "cell_type": "code",
      "metadata": {
        "colab": {
          "base_uri": "https://localhost:8080/"
        },
        "id": "w_X6DdsFQUap",
        "outputId": "e1349699-ad4f-46ab-d493-28544dec89e0"
      },
      "source": [
        "import numpy as np\n",
        "A=np.array([[4,3],[-5,9]]) #creation of matrix A\n",
        "print(A)\n",
        "inv_A=np.linalg.inv(A)\n",
        "print(inv_A)"
      ],
      "execution_count": 1,
      "outputs": [
        {
          "output_type": "stream",
          "name": "stdout",
          "text": [
            "[[ 4  3]\n",
            " [-5  9]]\n",
            "[[ 0.17647059 -0.05882353]\n",
            " [ 0.09803922  0.07843137]]\n"
          ]
        }
      ]
    },
    {
      "cell_type": "code",
      "metadata": {
        "colab": {
          "base_uri": "https://localhost:8080/"
        },
        "id": "4d4eJrZzRs5J",
        "outputId": "3c4261cc-4e9f-4c60-fe4b-e2390e3e847a"
      },
      "source": [
        "B=np.array([[20],[26]])\n",
        "print(B)"
      ],
      "execution_count": 2,
      "outputs": [
        {
          "output_type": "stream",
          "name": "stdout",
          "text": [
            "[[20]\n",
            " [26]]\n"
          ]
        }
      ]
    },
    {
      "cell_type": "code",
      "metadata": {
        "colab": {
          "base_uri": "https://localhost:8080/"
        },
        "id": "HHunBnPZRv4p",
        "outputId": "42195c44-5a05-4221-c99a-e5b4b0eb5550"
      },
      "source": [
        "X=np.linalg.inv(A).dot(B)\n",
        "print(X)"
      ],
      "execution_count": 3,
      "outputs": [
        {
          "output_type": "stream",
          "name": "stdout",
          "text": [
            "[[2.]\n",
            " [4.]]\n"
          ]
        }
      ]
    },
    {
      "cell_type": "code",
      "metadata": {
        "colab": {
          "base_uri": "https://localhost:8080/"
        },
        "id": "SHricuVdR8LL",
        "outputId": "c59119d3-103b-4de4-da9b-68a550732d25"
      },
      "source": [
        "X=np.dot(inv_A,B)\n",
        "print(X)"
      ],
      "execution_count": 4,
      "outputs": [
        {
          "output_type": "stream",
          "name": "stdout",
          "text": [
            "[[2.]\n",
            " [4.]]\n"
          ]
        }
      ]
    },
    {
      "cell_type": "markdown",
      "metadata": {
        "id": "U7UZZgvgSC9X"
      },
      "source": [
        "###Application"
      ]
    },
    {
      "cell_type": "code",
      "metadata": {
        "colab": {
          "base_uri": "https://localhost:8080/"
        },
        "id": "i6bMlAmvSFJE",
        "outputId": "fe03b1dc-880e-4bf3-c6a9-b07b557a2289"
      },
      "source": [
        "import numpy as np\n",
        "A=np.array([[20,10],[17,22]]) #creation of matrix A\n",
        "print(A)\n",
        "inv_A=np.linalg.inv(A) #creation of inverse of matrix A\n",
        "print(inv_A)"
      ],
      "execution_count": 5,
      "outputs": [
        {
          "output_type": "stream",
          "name": "stdout",
          "text": [
            "[[20 10]\n",
            " [17 22]]\n",
            "[[ 0.08148148 -0.03703704]\n",
            " [-0.06296296  0.07407407]]\n"
          ]
        }
      ]
    },
    {
      "cell_type": "code",
      "metadata": {
        "colab": {
          "base_uri": "https://localhost:8080/"
        },
        "id": "3OJwc1TCSQzz",
        "outputId": "4df6e505-c97d-4349-f657-d32050dbed74"
      },
      "source": [
        "B=np.array([[350],[500]])\n",
        "print(B)"
      ],
      "execution_count": 6,
      "outputs": [
        {
          "output_type": "stream",
          "name": "stdout",
          "text": [
            "[[350]\n",
            " [500]]\n"
          ]
        }
      ]
    },
    {
      "cell_type": "code",
      "metadata": {
        "colab": {
          "base_uri": "https://localhost:8080/"
        },
        "id": "XMu8idcNSYlg",
        "outputId": "ca6a683b-be65-41b7-c14b-548a54dd12ed"
      },
      "source": [
        "X=np.dot(inv_A,B)\n",
        "print(X)"
      ],
      "execution_count": 7,
      "outputs": [
        {
          "output_type": "stream",
          "name": "stdout",
          "text": [
            "[[10.]\n",
            " [15.]]\n"
          ]
        }
      ]
    },
    {
      "cell_type": "markdown",
      "metadata": {
        "id": "kMID_DERScUE"
      },
      "source": [
        "###To check if the answer is correct"
      ]
    },
    {
      "cell_type": "code",
      "metadata": {
        "colab": {
          "base_uri": "https://localhost:8080/"
        },
        "id": "6aQmS3AASd-u",
        "outputId": "ac32f53a-e801-4da5-c75c-de9d43dd65eb"
      },
      "source": [
        "B=np.dot(A,X)\n",
        "print(B)"
      ],
      "execution_count": 8,
      "outputs": [
        {
          "output_type": "stream",
          "name": "stdout",
          "text": [
            "[[350.]\n",
            " [500.]]\n"
          ]
        }
      ]
    },
    {
      "cell_type": "markdown",
      "metadata": {
        "id": "5ocogc98SsWf"
      },
      "source": [
        "###Solution for the given Linear Equations\n",
        "\n",
        "\n",
        "\n"
      ]
    },
    {
      "cell_type": "code",
      "metadata": {
        "colab": {
          "base_uri": "https://localhost:8080/"
        },
        "id": "cTdsmMJHSvdH",
        "outputId": "796c842b-0236-4cb5-f016-173d5d585086"
      },
      "source": [
        "import numpy as np\n",
        "A=np.array([[[4,3,2],[-2,2,3],[3,-5,2]]]) #creation of matrix A\n",
        "print(A)\n",
        "inv_A=np.linalg.inv(A)\n",
        "print(inv_A)"
      ],
      "execution_count": 14,
      "outputs": [
        {
          "output_type": "stream",
          "name": "stdout",
          "text": [
            "[[[ 4  3  2]\n",
            "  [-2  2  3]\n",
            "  [ 3 -5  2]]]\n",
            "[[[ 0.15447154 -0.1300813   0.04065041]\n",
            "  [ 0.10569106  0.01626016 -0.1300813 ]\n",
            "  [ 0.03252033  0.23577236  0.11382114]]]\n"
          ]
        }
      ]
    },
    {
      "cell_type": "code",
      "metadata": {
        "colab": {
          "base_uri": "https://localhost:8080/"
        },
        "id": "YPuPIhQcZ03N",
        "outputId": "f2acbe12-3837-45dd-c6a4-8c18a4150015"
      },
      "source": [
        "B=np.array([[[25],[-10],[-4]]])\n",
        "print(B)"
      ],
      "execution_count": 15,
      "outputs": [
        {
          "output_type": "stream",
          "name": "stdout",
          "text": [
            "[[[ 25]\n",
            "  [-10]\n",
            "  [ -4]]]\n"
          ]
        }
      ]
    },
    {
      "cell_type": "code",
      "metadata": {
        "colab": {
          "base_uri": "https://localhost:8080/"
        },
        "id": "-2h64Jd9Z4Bv",
        "outputId": "80fcd9d6-4138-4ff1-ca38-cd880fc52c91"
      },
      "source": [
        "X=np.linalg.inv(A).dot(B)\n",
        "print(X)"
      ],
      "execution_count": 16,
      "outputs": [
        {
          "output_type": "stream",
          "name": "stdout",
          "text": [
            "[[[[ 5.]]\n",
            "\n",
            "  [[ 3.]]\n",
            "\n",
            "  [[-2.]]]]\n"
          ]
        }
      ]
    },
    {
      "cell_type": "code",
      "metadata": {
        "colab": {
          "base_uri": "https://localhost:8080/"
        },
        "id": "1lmhSfenZ8Ol",
        "outputId": "c3cb1261-a769-40ca-fd75-e50c021dd295"
      },
      "source": [
        "X=np.dot(inv_A,B)\n",
        "print(X)"
      ],
      "execution_count": 17,
      "outputs": [
        {
          "output_type": "stream",
          "name": "stdout",
          "text": [
            "[[[[ 5.]]\n",
            "\n",
            "  [[ 3.]]\n",
            "\n",
            "  [[-2.]]]]\n"
          ]
        }
      ]
    }
  ]
}