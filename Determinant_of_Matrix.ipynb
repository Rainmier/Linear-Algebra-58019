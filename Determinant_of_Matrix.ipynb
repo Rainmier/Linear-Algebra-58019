{
  "nbformat": 4,
  "nbformat_minor": 0,
  "metadata": {
    "colab": {
      "name": "Determinant_of_Matrix.ipynb",
      "provenance": [],
      "authorship_tag": "ABX9TyNl7oEn45jWaB5iD2z8K1/5",
      "include_colab_link": true
    },
    "kernelspec": {
      "name": "python3",
      "display_name": "Python 3"
    },
    "language_info": {
      "name": "python"
    }
  },
  "cells": [
    {
      "cell_type": "markdown",
      "metadata": {
        "id": "view-in-github",
        "colab_type": "text"
      },
      "source": [
        "<a href=\"https://colab.research.google.com/github/Rainmier/Linear-Algebra-58019/blob/main/Determinant_of_Matrix.ipynb\" target=\"_parent\"><img src=\"https://colab.research.google.com/assets/colab-badge.svg\" alt=\"Open In Colab\"/></a>"
      ]
    },
    {
      "cell_type": "markdown",
      "metadata": {
        "id": "R_NOIwK3LjR0"
      },
      "source": [
        "**Determinant of Matrix**\n"
      ]
    },
    {
      "cell_type": "code",
      "metadata": {
        "colab": {
          "base_uri": "https://localhost:8080/"
        },
        "id": "NUq5Nf4DIkDP",
        "outputId": "fd55fef3-9b53-4eb2-cb49-e392dbca7e00"
      },
      "source": [
        "import numpy as np\n",
        "\n",
        "A = np.array([[1,2,-1],[4,6,-2],[-1,3,3]])\n",
        "print(A)\n",
        "\n",
        "print(round(np.linalg.det(A)))"
      ],
      "execution_count": null,
      "outputs": [
        {
          "output_type": "stream",
          "name": "stdout",
          "text": [
            "[[ 1  2 -1]\n",
            " [ 4  6 -2]\n",
            " [-1  3  3]]\n",
            "-14\n"
          ]
        }
      ]
    }
  ]
}