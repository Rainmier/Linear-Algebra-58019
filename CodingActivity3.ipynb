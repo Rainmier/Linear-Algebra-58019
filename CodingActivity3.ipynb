{
  "nbformat": 4,
  "nbformat_minor": 0,
  "metadata": {
    "colab": {
      "name": "CodingActivity3.ipynb",
      "provenance": [],
      "authorship_tag": "ABX9TyP1047ohYxbUjLl/WWn0X7r",
      "include_colab_link": true
    },
    "kernelspec": {
      "name": "python3",
      "display_name": "Python 3"
    },
    "language_info": {
      "name": "python"
    }
  },
  "cells": [
    {
      "cell_type": "markdown",
      "metadata": {
        "id": "view-in-github",
        "colab_type": "text"
      },
      "source": [
        "<a href=\"https://colab.research.google.com/github/Rainmier/Linear-Algebra-58019/blob/main/CodingActivity3.ipynb\" target=\"_parent\"><img src=\"https://colab.research.google.com/assets/colab-badge.svg\" alt=\"Open In Colab\"/></a>"
      ]
    },
    {
      "cell_type": "markdown",
      "metadata": {
        "id": "Oa1Yje4tVz6l"
      },
      "source": [
        "###Create a NumPy program that solves for the unknown variables of linear systems:\n",
        "\n",
        "4x +10y+8z = 44\n",
        "\n",
        "10x+26y+26z = 128\n",
        "\n",
        "8x+26y+61z = 214\n",
        "\n"
      ]
    },
    {
      "cell_type": "code",
      "metadata": {
        "colab": {
          "base_uri": "https://localhost:8080/"
        },
        "id": "gkiw1O6-VjCm",
        "outputId": "a4e04da9-d787-4b97-cb60-9a5a91e27f06"
      },
      "source": [
        "import numpy as np\n",
        "A = np.array(([[4,10,8],[10,26,26],[8,26,61]])) #creation of matrix A\n",
        "print(A,\"\\n\")\n",
        "inv_A = np.linalg.inv(A)\n",
        "print(inv_A)"
      ],
      "execution_count": 5,
      "outputs": [
        {
          "output_type": "stream",
          "name": "stdout",
          "text": [
            "[[ 4 10  8]\n",
            " [10 26 26]\n",
            " [ 8 26 61]] \n",
            "\n",
            "[[ 25.27777778 -11.16666667   1.44444444]\n",
            " [-11.16666667   5.          -0.66666667]\n",
            " [  1.44444444  -0.66666667   0.11111111]]\n"
          ]
        }
      ]
    },
    {
      "cell_type": "code",
      "metadata": {
        "colab": {
          "base_uri": "https://localhost:8080/"
        },
        "id": "1RxD56KaV2W1",
        "outputId": "8b401b45-e8e8-4188-e13d-edd34fa540d6"
      },
      "source": [
        "B=np.array([[44],[128],[214]])\n",
        "print(B)"
      ],
      "execution_count": 20,
      "outputs": [
        {
          "output_type": "stream",
          "name": "stdout",
          "text": [
            "[[ 44]\n",
            " [128]\n",
            " [214]]\n"
          ]
        }
      ]
    },
    {
      "cell_type": "code",
      "metadata": {
        "colab": {
          "base_uri": "https://localhost:8080/"
        },
        "id": "HSvYBSbkV457",
        "outputId": "eebb85b3-bc03-408e-9a84-9a16f56bd13f"
      },
      "source": [
        "X = np.dot(inv_A,B)\n",
        "print(X)"
      ],
      "execution_count": 21,
      "outputs": [
        {
          "output_type": "stream",
          "name": "stdout",
          "text": [
            "[[-8.]\n",
            " [ 6.]\n",
            " [ 2.]]\n"
          ]
        }
      ]
    },
    {
      "cell_type": "code",
      "metadata": {
        "colab": {
          "base_uri": "https://localhost:8080/"
        },
        "id": "TkcaN2NYYujI",
        "outputId": "65bd7fc6-e644-428c-b952-b0c8e423ccff"
      },
      "source": [
        "X=np.linalg.inv(A).dot(B)\n",
        "print(X)"
      ],
      "execution_count": 22,
      "outputs": [
        {
          "output_type": "stream",
          "name": "stdout",
          "text": [
            "[[-8.]\n",
            " [ 6.]\n",
            " [ 2.]]\n"
          ]
        }
      ]
    }
  ]
}