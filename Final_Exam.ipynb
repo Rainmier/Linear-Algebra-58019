{
  "nbformat": 4,
  "nbformat_minor": 0,
  "metadata": {
    "colab": {
      "name": "Final Exam.ipynb",
      "provenance": [],
      "authorship_tag": "ABX9TyMXbIHQnmeGOX8AhQaIVbty",
      "include_colab_link": true
    },
    "kernelspec": {
      "name": "python3",
      "display_name": "Python 3"
    },
    "language_info": {
      "name": "python"
    }
  },
  "cells": [
    {
      "cell_type": "markdown",
      "metadata": {
        "id": "view-in-github",
        "colab_type": "text"
      },
      "source": [
        "<a href=\"https://colab.research.google.com/github/Rainmier/Linear-Algebra-58019/blob/main/Final_Exam.ipynb\" target=\"_parent\"><img src=\"https://colab.research.google.com/assets/colab-badge.svg\" alt=\"Open In Colab\"/></a>"
      ]
    },
    {
      "cell_type": "markdown",
      "source": [
        "###Problem 1. Student A, Student B, and Student C have a total of Php 89 cash in their banks. Student A has 6 less than Student C. Student B has 3 times what Student C has. How much does each student have? "
      ],
      "metadata": {
        "id": "jujt309sJ2pp"
      }
    },
    {
      "cell_type": "code",
      "execution_count": 4,
      "metadata": {
        "colab": {
          "base_uri": "https://localhost:8080/"
        },
        "id": "iMrjozSgH3zK",
        "outputId": "f9a16db7-7877-4261-d1aa-196b1753a651"
      },
      "outputs": [
        {
          "output_type": "stream",
          "name": "stdout",
          "text": [
            "[[13.]\n",
            " [57.]\n",
            " [19.]]\n"
          ]
        }
      ],
      "source": [
        "import numpy as np\n",
        "eq1 = np.array([[1,1,1],[1,0,4],[0,0,5]])\n",
        "eq2 = np.array([[89],[89],[95]])\n",
        "amt = np.linalg.inv(eq1).dot(eq2)\n",
        "print(amt)"
      ]
    },
    {
      "cell_type": "markdown",
      "source": [
        "###Problem 2. Solve each system\n",
        "\n"
      ],
      "metadata": {
        "id": "KOf_sYmuJ9Ki"
      }
    },
    {
      "cell_type": "code",
      "source": [
        "A = np.array([[3,-1,1],[9,-3,3],[-12,4,-4]])\n",
        "print(A)\n",
        "B = np.array([[5],[15],[-20]])\n",
        "print (B)\n",
        "\n",
        "Apinv = np.linalg.pinv(A)\n",
        "\n",
        "x = Apinv.dot(B)\n",
        "print(x)"
      ],
      "metadata": {
        "colab": {
          "base_uri": "https://localhost:8080/"
        },
        "id": "hsOpA__5KEmd",
        "outputId": "09209982-e41b-45d6-910c-96cf85cba988"
      },
      "execution_count": 9,
      "outputs": [
        {
          "output_type": "stream",
          "name": "stdout",
          "text": [
            "[[  3  -1   1]\n",
            " [  9  -3   3]\n",
            " [-12   4  -4]]\n",
            "[[  5]\n",
            " [ 15]\n",
            " [-20]]\n",
            "[[ 1.36363636]\n",
            " [-0.45454545]\n",
            " [ 0.45454545]]\n"
          ]
        }
      ]
    },
    {
      "cell_type": "markdown",
      "source": [
        "###Problem 3. Consider the matrix"
      ],
      "metadata": {
        "id": "btvpcKMKKLk-"
      }
    },
    {
      "cell_type": "code",
      "source": [
        "import numpy as np\n",
        "from numpy.linalg import eig\n",
        "A = np.array([[8,5,-6],[-12,-9,12],[-3,-3,5]])\n",
        "print(A,\"\\n\")\n",
        "w,v = np.linalg.eig(A) \n",
        "print(\"The eigenvalue/s is/are:\\n\",w.round(),\"\\n\")\n",
        "print(\"The eigenvector/s is/are:\\n\",v.round())"
      ],
      "metadata": {
        "colab": {
          "base_uri": "https://localhost:8080/"
        },
        "id": "ZsEUW_cPKN4V",
        "outputId": "fc6a5610-a9e1-4885-8326-4811c605b8b5"
      },
      "execution_count": 1,
      "outputs": [
        {
          "output_type": "stream",
          "name": "stdout",
          "text": [
            "[[  8   5  -6]\n",
            " [-12  -9  12]\n",
            " [ -3  -3   5]] \n",
            "\n",
            "The eigenvalue/s is/are:\n",
            " [-1.  3.  2.] \n",
            "\n",
            "The eigenvector/s is/are:\n",
            " [[ 0. -1.  1.]\n",
            " [-1.  1.  0.]\n",
            " [-0. -0.  1.]]\n"
          ]
        }
      ]
    }
  ]
}