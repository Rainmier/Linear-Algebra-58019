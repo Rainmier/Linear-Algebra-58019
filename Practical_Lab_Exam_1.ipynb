{
  "nbformat": 4,
  "nbformat_minor": 0,
  "metadata": {
    "colab": {
      "name": "Practical Lab Exam 1.ipynb",
      "provenance": [],
      "authorship_tag": "ABX9TyMVA1oUdxKX3gT0/S1J3Jc9",
      "include_colab_link": true
    },
    "kernelspec": {
      "name": "python3",
      "display_name": "Python 3"
    },
    "language_info": {
      "name": "python"
    }
  },
  "cells": [
    {
      "cell_type": "markdown",
      "metadata": {
        "id": "view-in-github",
        "colab_type": "text"
      },
      "source": [
        "<a href=\"https://colab.research.google.com/github/Rainmier/Linear-Algebra-58019/blob/main/Practical_Lab_Exam_1.ipynb\" target=\"_parent\"><img src=\"https://colab.research.google.com/assets/colab-badge.svg\" alt=\"Open In Colab\"/></a>"
      ]
    },
    {
      "cell_type": "code",
      "metadata": {
        "colab": {
          "base_uri": "https://localhost:8080/"
        },
        "id": "kweEZUku3hE2",
        "outputId": "2e075b46-0d2a-4dc6-9b4f-87776bc29428"
      },
      "source": [
        "#numpy\n",
        "import numpy as np\n",
        "A = np.array([[1,2,3],[4,5,6]])\n",
        "print(A)\n",
        "print()\n",
        "B = np.array([[1,2],[3,4],[5,6]])\n",
        "print(B)\n",
        "print()\n",
        "C = np.array([[1,2,3],[4,5,6],[7,8,9]])\n",
        "print(C)\n",
        "print()\n",
        "D = np.array([[1,2],[3,4]])\n",
        "print(D)\n",
        "print()\n",
        "dot = np.dot(A,B)\n",
        "print(dot)\n",
        "print()\n",
        "print(D+D)\n",
        "print()\n",
        "print(2*C)"
      ],
      "execution_count": null,
      "outputs": [
        {
          "output_type": "stream",
          "name": "stdout",
          "text": [
            "[[1 2 3]\n",
            " [4 5 6]]\n",
            "\n",
            "[[1 2]\n",
            " [3 4]\n",
            " [5 6]]\n",
            "\n",
            "[[1 2 3]\n",
            " [4 5 6]\n",
            " [7 8 9]]\n",
            "\n",
            "[[1 2]\n",
            " [3 4]]\n",
            "\n",
            "[[22 28]\n",
            " [49 64]]\n",
            "\n",
            "[[2 4]\n",
            " [6 8]]\n",
            "\n",
            "[[ 2  4  6]\n",
            " [ 8 10 12]\n",
            " [14 16 18]]\n"
          ]
        }
      ]
    },
    {
      "cell_type": "code",
      "metadata": {
        "colab": {
          "base_uri": "https://localhost:8080/"
        },
        "id": "9oyG8NaI-GT_",
        "outputId": "1f3ccbf5-5f0d-44fd-a3b8-2dc14e59c546"
      },
      "source": [
        "import numpy as np\n",
        "A = np.array([5,3,-1])\n",
        "\n",
        "print('size of array:', A.size)\n",
        "\n",
        "print('type of array:', type(A))\n",
        "\n",
        "print('shape of array:', A.shape)\n",
        "\n",
        "print('dimension of array:', A.ndim)"
      ],
      "execution_count": 2,
      "outputs": [
        {
          "output_type": "stream",
          "name": "stdout",
          "text": [
            "size of array: 3\n",
            "type of array: <class 'numpy.ndarray'>\n",
            "shape of array: (3,)\n",
            "dimension of array: 1\n"
          ]
        }
      ]
    }
  ]
}